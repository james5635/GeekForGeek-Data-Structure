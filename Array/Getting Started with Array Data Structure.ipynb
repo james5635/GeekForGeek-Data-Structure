{
  "cells": [
    {
      "cell_type": "markdown",
      "metadata": {},
      "source": [
        "### Declaration of Array"
      ]
    },
    {
      "cell_type": "code",
      "execution_count": 18,
      "metadata": {},
      "outputs": [],
      "source": [
        "arr = []"
      ]
    },
    {
      "cell_type": "code",
      "execution_count": null,
      "metadata": {},
      "outputs": [],
      "source": [
        "cpp_code = \"\"\"\n",
        "    int arr[5];\n",
        "    char arr[10];\n",
        "    float arr[20];\n",
        "}\n",
        "\"\"\""
      ]
    },
    {
      "cell_type": "markdown",
      "metadata": {},
      "source": [
        "### Initialization of Array"
      ]
    },
    {
      "cell_type": "code",
      "execution_count": null,
      "metadata": {},
      "outputs": [],
      "source": [
        "arr = [1,2,3,4,5]\n",
        "arr = ['a', 'b', 'c', 'd', 'e', 'f']\n",
        "arr = [1.4, 2.0, 24.0, 5.0, 0.0]"
      ]
    },
    {
      "cell_type": "code",
      "execution_count": null,
      "metadata": {},
      "outputs": [],
      "source": [
        "cpp_code = \"\"\"\n",
        "    int arr[] = {1,2,3,4,5};\n",
        "    char arr[5] = {'a', 'b', 'c', 'd', 'e'};\n",
        "    float arr[10] = {1.4, 2.0, 24, 5, 0.0};\n",
        "}\n",
        "\"\"\""
      ]
    },
    {
      "cell_type": "markdown",
      "metadata": {},
      "source": [
        "### Fixed Sized Arrays\n",
        "\n"
      ]
    },
    {
      "cell_type": "code",
      "execution_count": null,
      "metadata": {},
      "outputs": [
        {
          "name": "stdout",
          "output_type": "stream",
          "text": [
            "1\n"
          ]
        }
      ],
      "source": [
        "arr = [0] * 5\n",
        "print(arr[5])"
      ]
    },
    {
      "cell_type": "code",
      "execution_count": 21,
      "metadata": {},
      "outputs": [],
      "source": [
        "cpp_code = \"\"\"\n",
        "    int arr[5];\n",
        "    int arr[5] = {1,2,3,4,5};\n",
        "    int *arr = new int[5];\n",
        "\"\"\""
      ]
    },
    {
      "cell_type": "markdown",
      "metadata": {},
      "source": [
        "### Dynamic Sized Arrays"
      ]
    },
    {
      "cell_type": "code",
      "execution_count": 22,
      "metadata": {},
      "outputs": [],
      "source": [
        "arr = []"
      ]
    },
    {
      "cell_type": "code",
      "execution_count": 32,
      "metadata": {},
      "outputs": [
        {
          "data": {
            "text/plain": [
              "CompletedProcess(args=['rm', 'temp', 'temp.cpp'], returncode=0)"
            ]
          },
          "execution_count": 32,
          "metadata": {},
          "output_type": "execute_result"
        }
      ],
      "source": [
        "cpp_code = \"\"\"\n",
        "    #include <vector>\n",
        "    std::vector<int> v;\n",
        "    int main(){return 0;}\n",
        "\"\"\"\n",
        "import subprocess\n",
        "with open(\"temp.cpp\", \"w\") as f:\n",
        "    f.write(cpp_code)\n",
        "\n",
        "subprocess.run([\"g++\", \"temp.cpp\", \"-o\", \"temp\"])\n",
        "subprocess.run([\"./temp\"])\n",
        "subprocess.run([\"rm\", \"temp\", \"temp.cpp\"])"
      ]
    },
    {
      "cell_type": "code",
      "execution_count": null,
      "metadata": {},
      "outputs": [],
      "source": []
    }
  ],
  "metadata": {
    "kernelspec": {
      "display_name": "Python 3",
      "language": "python",
      "name": "python3"
    },
    "nbformat": 4,
    "nbformat_minor": 0
  }
}
