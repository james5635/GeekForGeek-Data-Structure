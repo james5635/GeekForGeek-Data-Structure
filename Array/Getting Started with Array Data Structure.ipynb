{
  "cells": [
    {
      "cell_type": "markdown",
      "metadata": {
        "id": "CdEEGftEC7kj"
      },
      "source": [
        "### Declaration of Array"
      ]
    },
    {
      "cell_type": "code",
      "execution_count": 8,
      "metadata": {
        "id": "CcWA1em0C7km"
      },
      "outputs": [],
      "source": [
        "arr = [1]"
      ]
    },
    {
      "cell_type": "markdown",
      "metadata": {
        "id": "nyN8yac7C7ko"
      },
      "source": [
        "### Initialization of Array"
      ]
    },
    {
      "cell_type": "code",
      "execution_count": null,
      "metadata": {
        "id": "lakHvsyRC7kp"
      },
      "outputs": [],
      "source": [
        "arr = [1,2,3,4,5]\n",
        "arr = ['a', 'b', 'c', 'd', 'e', 'f']\n",
        "arr = [1.4, 2.0, 24.0, 5.0, 0.0]"
      ]
    },
    {
      "cell_type": "markdown",
      "metadata": {
        "id": "xvT4xygPC7kp"
      },
      "source": [
        "### Fixed Sized Arrays\n",
        "\n"
      ]
    },
    {
      "cell_type": "code",
      "execution_count": null,
      "metadata": {
        "id": "7r51iaryC7kq",
        "outputId": "10296e8e-87bd-4dee-d9b2-f52e1f35aae9"
      },
      "outputs": [
        {
          "name": "stdout",
          "output_type": "stream",
          "text": [
            "[0, 0, 0, 0, 0]\n"
          ]
        }
      ],
      "source": [
        "arr = [0] * 5\n",
        "print(arr)"
      ]
    },
    {
      "cell_type": "code",
      "execution_count": null,
      "metadata": {
        "id": "NMj16nj1C7kr",
        "outputId": "9a8ed9a3-694d-49b6-c959-54b16a38cb4b"
      },
      "outputs": [
        {
          "ename": "SyntaxError",
          "evalue": "invalid syntax (2219730082.py, line 2)",
          "output_type": "error",
          "traceback": [
            "  \u001b[36mCell\u001b[39m\u001b[36m \u001b[39m\u001b[32mIn[10]\u001b[39m\u001b[32m, line 2\u001b[39m\n\u001b[31m    \u001b[39m\u001b[31mint main(){\u001b[39m\n        ^\n\u001b[31mSyntaxError\u001b[39m\u001b[31m:\u001b[39m invalid syntax\n"
          ]
        }
      ],
      "source": [
        "#include <iostream>\n",
        "int main(){\n",
        "\n",
        "    return 0;\n",
        "}"
      ]
    }
  ],
  "metadata": {
    "kernelspec": {
      "display_name": "Python 3",
      "language": "python",
      "name": "python3"
    },
    "language_info": {
      "codemirror_mode": {
        "name": "ipython",
        "version": 3
      },
      "file_extension": ".py",
      "mimetype": "text/x-python",
      "name": "python",
      "nbconvert_exporter": "python",
      "pygments_lexer": "ipython3",
      "version": "3.12.8"
    },
    "colab": {
      "provenance": []
    }
  },
  "nbformat": 4,
  "nbformat_minor": 0
}