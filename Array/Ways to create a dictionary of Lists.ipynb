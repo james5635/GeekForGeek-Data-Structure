{
 "cells": [
  {
   "cell_type": "markdown",
   "metadata": {},
   "source": [
    "## Initialize a Dictionary of Lists"
   ]
  },
  {
   "cell_type": "code",
   "execution_count": 2,
   "metadata": {},
   "outputs": [
    {
     "name": "stdout",
     "output_type": "stream",
     "text": [
      "{'1': [1, 2], '2': ['Geek', 'For', 'Geeks']}\n"
     ]
    }
   ],
   "source": [
    "d = {}\n",
    "d[\"1\"] = [1,2]\n",
    "d[\"2\"] = [\"Geek\", \"For\", \"Geeks\"]\n",
    "print(d)"
   ]
  },
  {
   "cell_type": "markdown",
   "metadata": {},
   "source": [
    "## Using the zip() Function"
   ]
  },
  {
   "cell_type": "code",
   "execution_count": 4,
   "metadata": {},
   "outputs": [
    {
     "name": "stdout",
     "output_type": "stream",
     "text": [
      "{'Fruits': ['Apple', 'Banana'], 'Vegetables': ['Carrot', 'Spinach'], 'Drinks': ['water', 'Juice']}\n"
     ]
    }
   ],
   "source": [
    "k = [\"Fruits\", \"Vegetables\", \"Drinks\"]\n",
    "val = [[\"Apple\", \"Banana\"], [\"Carrot\", \"Spinach\"], [\"water\", \"Juice\"]]\n",
    "d = dict(zip(k, val))\n",
    "print(d)"
   ]
  },
  {
   "cell_type": "markdown",
   "metadata": {},
   "source": [
    "## Use defaultdict from collections"
   ]
  },
  {
   "cell_type": "code",
   "execution_count": 39,
   "metadata": {},
   "outputs": [
    {
     "name": "stdout",
     "output_type": "stream",
     "text": [
      "defaultdict(<class 'list'>, {1: ['Apple'], 2: ['Banana'], 3: ['Carrot']})\n"
     ]
    }
   ],
   "source": [
    "from collections import defaultdict\n",
    "d = defaultdict(list)\n",
    "\n",
    "d[1].append('Apple')\n",
    "d[2].append('Banana')\n",
    "d[3].append('Carrot')\n",
    "\n",
    "print(d)"
   ]
  }
 ],
 "metadata": {
  "kernelspec": {
   "display_name": "Python 3",
   "language": "python",
   "name": "python3"
  },
  "language_info": {
   "codemirror_mode": {
    "name": "ipython",
    "version": 3
   },
   "file_extension": ".py",
   "mimetype": "text/x-python",
   "name": "python",
   "nbconvert_exporter": "python",
   "pygments_lexer": "ipython3",
   "version": "3.13.2"
  }
 },
 "nbformat": 4,
 "nbformat_minor": 2
}
